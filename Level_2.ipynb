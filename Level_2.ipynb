{
 "cells": [
  {
   "cell_type": "markdown",
   "id": "c250c985",
   "metadata": {},
   "source": [
    "## Task 1: Table Booking and Online Delivery"
   ]
  },
  {
   "cell_type": "code",
   "execution_count": 16,
   "id": "977a4269",
   "metadata": {},
   "outputs": [],
   "source": [
    "# Import the necessary libraries for data preprocessing and manipulation\n",
    "\n",
    "import pandas as pd\n",
    "import numpy as np\n",
    "import matplotlib.pyplot as plt\n",
    "import seaborn as sns\n",
    "import folium\n",
    "from folium.plugins import MarkerCluster"
   ]
  },
  {
   "cell_type": "code",
   "execution_count": 17,
   "id": "26aa54cc",
   "metadata": {},
   "outputs": [],
   "source": [
    "# Load the dataset\n",
    "\n",
    "df = pd.read_csv(r\"C:\\Users\\DELL\\Downloads\\Cognifyz Task 1\\Dataset.csv\")"
   ]
  },
  {
   "cell_type": "code",
   "execution_count": 18,
   "id": "6c7646b3",
   "metadata": {},
   "outputs": [
    {
     "data": {
      "text/html": [
       "<div>\n",
       "<style scoped>\n",
       "    .dataframe tbody tr th:only-of-type {\n",
       "        vertical-align: middle;\n",
       "    }\n",
       "\n",
       "    .dataframe tbody tr th {\n",
       "        vertical-align: top;\n",
       "    }\n",
       "\n",
       "    .dataframe thead th {\n",
       "        text-align: right;\n",
       "    }\n",
       "</style>\n",
       "<table border=\"1\" class=\"dataframe\">\n",
       "  <thead>\n",
       "    <tr style=\"text-align: right;\">\n",
       "      <th></th>\n",
       "      <th>Restaurant ID</th>\n",
       "      <th>Restaurant Name</th>\n",
       "      <th>Country Code</th>\n",
       "      <th>City</th>\n",
       "      <th>Address</th>\n",
       "      <th>Locality</th>\n",
       "      <th>Locality Verbose</th>\n",
       "      <th>Longitude</th>\n",
       "      <th>Latitude</th>\n",
       "      <th>Cuisines</th>\n",
       "      <th>...</th>\n",
       "      <th>Currency</th>\n",
       "      <th>Has Table booking</th>\n",
       "      <th>Has Online delivery</th>\n",
       "      <th>Is delivering now</th>\n",
       "      <th>Switch to order menu</th>\n",
       "      <th>Price range</th>\n",
       "      <th>Aggregate rating</th>\n",
       "      <th>Rating color</th>\n",
       "      <th>Rating text</th>\n",
       "      <th>Votes</th>\n",
       "    </tr>\n",
       "  </thead>\n",
       "  <tbody>\n",
       "    <tr>\n",
       "      <th>0</th>\n",
       "      <td>6317637</td>\n",
       "      <td>Le Petit Souffle</td>\n",
       "      <td>162</td>\n",
       "      <td>Makati City</td>\n",
       "      <td>Third Floor, Century City Mall, Kalayaan Avenu...</td>\n",
       "      <td>Century City Mall, Poblacion, Makati City</td>\n",
       "      <td>Century City Mall, Poblacion, Makati City, Mak...</td>\n",
       "      <td>121.027535</td>\n",
       "      <td>14.565443</td>\n",
       "      <td>French, Japanese, Desserts</td>\n",
       "      <td>...</td>\n",
       "      <td>Botswana Pula(P)</td>\n",
       "      <td>Yes</td>\n",
       "      <td>No</td>\n",
       "      <td>No</td>\n",
       "      <td>No</td>\n",
       "      <td>3</td>\n",
       "      <td>4.8</td>\n",
       "      <td>Dark Green</td>\n",
       "      <td>Excellent</td>\n",
       "      <td>314</td>\n",
       "    </tr>\n",
       "    <tr>\n",
       "      <th>1</th>\n",
       "      <td>6304287</td>\n",
       "      <td>Izakaya Kikufuji</td>\n",
       "      <td>162</td>\n",
       "      <td>Makati City</td>\n",
       "      <td>Little Tokyo, 2277 Chino Roces Avenue, Legaspi...</td>\n",
       "      <td>Little Tokyo, Legaspi Village, Makati City</td>\n",
       "      <td>Little Tokyo, Legaspi Village, Makati City, Ma...</td>\n",
       "      <td>121.014101</td>\n",
       "      <td>14.553708</td>\n",
       "      <td>Japanese</td>\n",
       "      <td>...</td>\n",
       "      <td>Botswana Pula(P)</td>\n",
       "      <td>Yes</td>\n",
       "      <td>No</td>\n",
       "      <td>No</td>\n",
       "      <td>No</td>\n",
       "      <td>3</td>\n",
       "      <td>4.5</td>\n",
       "      <td>Dark Green</td>\n",
       "      <td>Excellent</td>\n",
       "      <td>591</td>\n",
       "    </tr>\n",
       "    <tr>\n",
       "      <th>2</th>\n",
       "      <td>6300002</td>\n",
       "      <td>Heat - Edsa Shangri-La</td>\n",
       "      <td>162</td>\n",
       "      <td>Mandaluyong City</td>\n",
       "      <td>Edsa Shangri-La, 1 Garden Way, Ortigas, Mandal...</td>\n",
       "      <td>Edsa Shangri-La, Ortigas, Mandaluyong City</td>\n",
       "      <td>Edsa Shangri-La, Ortigas, Mandaluyong City, Ma...</td>\n",
       "      <td>121.056831</td>\n",
       "      <td>14.581404</td>\n",
       "      <td>Seafood, Asian, Filipino, Indian</td>\n",
       "      <td>...</td>\n",
       "      <td>Botswana Pula(P)</td>\n",
       "      <td>Yes</td>\n",
       "      <td>No</td>\n",
       "      <td>No</td>\n",
       "      <td>No</td>\n",
       "      <td>4</td>\n",
       "      <td>4.4</td>\n",
       "      <td>Green</td>\n",
       "      <td>Very Good</td>\n",
       "      <td>270</td>\n",
       "    </tr>\n",
       "    <tr>\n",
       "      <th>3</th>\n",
       "      <td>6318506</td>\n",
       "      <td>Ooma</td>\n",
       "      <td>162</td>\n",
       "      <td>Mandaluyong City</td>\n",
       "      <td>Third Floor, Mega Fashion Hall, SM Megamall, O...</td>\n",
       "      <td>SM Megamall, Ortigas, Mandaluyong City</td>\n",
       "      <td>SM Megamall, Ortigas, Mandaluyong City, Mandal...</td>\n",
       "      <td>121.056475</td>\n",
       "      <td>14.585318</td>\n",
       "      <td>Japanese, Sushi</td>\n",
       "      <td>...</td>\n",
       "      <td>Botswana Pula(P)</td>\n",
       "      <td>No</td>\n",
       "      <td>No</td>\n",
       "      <td>No</td>\n",
       "      <td>No</td>\n",
       "      <td>4</td>\n",
       "      <td>4.9</td>\n",
       "      <td>Dark Green</td>\n",
       "      <td>Excellent</td>\n",
       "      <td>365</td>\n",
       "    </tr>\n",
       "    <tr>\n",
       "      <th>4</th>\n",
       "      <td>6314302</td>\n",
       "      <td>Sambo Kojin</td>\n",
       "      <td>162</td>\n",
       "      <td>Mandaluyong City</td>\n",
       "      <td>Third Floor, Mega Atrium, SM Megamall, Ortigas...</td>\n",
       "      <td>SM Megamall, Ortigas, Mandaluyong City</td>\n",
       "      <td>SM Megamall, Ortigas, Mandaluyong City, Mandal...</td>\n",
       "      <td>121.057508</td>\n",
       "      <td>14.584450</td>\n",
       "      <td>Japanese, Korean</td>\n",
       "      <td>...</td>\n",
       "      <td>Botswana Pula(P)</td>\n",
       "      <td>Yes</td>\n",
       "      <td>No</td>\n",
       "      <td>No</td>\n",
       "      <td>No</td>\n",
       "      <td>4</td>\n",
       "      <td>4.8</td>\n",
       "      <td>Dark Green</td>\n",
       "      <td>Excellent</td>\n",
       "      <td>229</td>\n",
       "    </tr>\n",
       "  </tbody>\n",
       "</table>\n",
       "<p>5 rows × 21 columns</p>\n",
       "</div>"
      ],
      "text/plain": [
       "   Restaurant ID         Restaurant Name  Country Code              City  \\\n",
       "0        6317637        Le Petit Souffle           162       Makati City   \n",
       "1        6304287        Izakaya Kikufuji           162       Makati City   \n",
       "2        6300002  Heat - Edsa Shangri-La           162  Mandaluyong City   \n",
       "3        6318506                    Ooma           162  Mandaluyong City   \n",
       "4        6314302             Sambo Kojin           162  Mandaluyong City   \n",
       "\n",
       "                                             Address  \\\n",
       "0  Third Floor, Century City Mall, Kalayaan Avenu...   \n",
       "1  Little Tokyo, 2277 Chino Roces Avenue, Legaspi...   \n",
       "2  Edsa Shangri-La, 1 Garden Way, Ortigas, Mandal...   \n",
       "3  Third Floor, Mega Fashion Hall, SM Megamall, O...   \n",
       "4  Third Floor, Mega Atrium, SM Megamall, Ortigas...   \n",
       "\n",
       "                                     Locality  \\\n",
       "0   Century City Mall, Poblacion, Makati City   \n",
       "1  Little Tokyo, Legaspi Village, Makati City   \n",
       "2  Edsa Shangri-La, Ortigas, Mandaluyong City   \n",
       "3      SM Megamall, Ortigas, Mandaluyong City   \n",
       "4      SM Megamall, Ortigas, Mandaluyong City   \n",
       "\n",
       "                                    Locality Verbose   Longitude   Latitude  \\\n",
       "0  Century City Mall, Poblacion, Makati City, Mak...  121.027535  14.565443   \n",
       "1  Little Tokyo, Legaspi Village, Makati City, Ma...  121.014101  14.553708   \n",
       "2  Edsa Shangri-La, Ortigas, Mandaluyong City, Ma...  121.056831  14.581404   \n",
       "3  SM Megamall, Ortigas, Mandaluyong City, Mandal...  121.056475  14.585318   \n",
       "4  SM Megamall, Ortigas, Mandaluyong City, Mandal...  121.057508  14.584450   \n",
       "\n",
       "                           Cuisines  ...          Currency Has Table booking  \\\n",
       "0        French, Japanese, Desserts  ...  Botswana Pula(P)               Yes   \n",
       "1                          Japanese  ...  Botswana Pula(P)               Yes   \n",
       "2  Seafood, Asian, Filipino, Indian  ...  Botswana Pula(P)               Yes   \n",
       "3                   Japanese, Sushi  ...  Botswana Pula(P)                No   \n",
       "4                  Japanese, Korean  ...  Botswana Pula(P)               Yes   \n",
       "\n",
       "  Has Online delivery Is delivering now Switch to order menu Price range  \\\n",
       "0                  No                No                   No           3   \n",
       "1                  No                No                   No           3   \n",
       "2                  No                No                   No           4   \n",
       "3                  No                No                   No           4   \n",
       "4                  No                No                   No           4   \n",
       "\n",
       "   Aggregate rating  Rating color Rating text Votes  \n",
       "0               4.8    Dark Green   Excellent   314  \n",
       "1               4.5    Dark Green   Excellent   591  \n",
       "2               4.4         Green   Very Good   270  \n",
       "3               4.9    Dark Green   Excellent   365  \n",
       "4               4.8    Dark Green   Excellent   229  \n",
       "\n",
       "[5 rows x 21 columns]"
      ]
     },
     "execution_count": 18,
     "metadata": {},
     "output_type": "execute_result"
    }
   ],
   "source": [
    "# Print the top rows\n",
    "\n",
    "df.head()"
   ]
  },
  {
   "cell_type": "code",
   "execution_count": null,
   "id": "8f6f1f62",
   "metadata": {},
   "outputs": [],
   "source": []
  },
  {
   "cell_type": "code",
   "execution_count": 19,
   "id": "a7975f1e",
   "metadata": {},
   "outputs": [
    {
     "name": "stdout",
     "output_type": "stream",
     "text": [
      "<class 'pandas.core.frame.DataFrame'>\n",
      "RangeIndex: 9551 entries, 0 to 9550\n",
      "Data columns (total 21 columns):\n",
      " #   Column                Non-Null Count  Dtype  \n",
      "---  ------                --------------  -----  \n",
      " 0   Restaurant ID         9551 non-null   int64  \n",
      " 1   Restaurant Name       9551 non-null   object \n",
      " 2   Country Code          9551 non-null   int64  \n",
      " 3   City                  9551 non-null   object \n",
      " 4   Address               9551 non-null   object \n",
      " 5   Locality              9551 non-null   object \n",
      " 6   Locality Verbose      9551 non-null   object \n",
      " 7   Longitude             9551 non-null   float64\n",
      " 8   Latitude              9551 non-null   float64\n",
      " 9   Cuisines              9542 non-null   object \n",
      " 10  Average Cost for two  9551 non-null   int64  \n",
      " 11  Currency              9551 non-null   object \n",
      " 12  Has Table booking     9551 non-null   object \n",
      " 13  Has Online delivery   9551 non-null   object \n",
      " 14  Is delivering now     9551 non-null   object \n",
      " 15  Switch to order menu  9551 non-null   object \n",
      " 16  Price range           9551 non-null   int64  \n",
      " 17  Aggregate rating      9551 non-null   float64\n",
      " 18  Rating color          9551 non-null   object \n",
      " 19  Rating text           9551 non-null   object \n",
      " 20  Votes                 9551 non-null   int64  \n",
      "dtypes: float64(3), int64(5), object(13)\n",
      "memory usage: 1.5+ MB\n"
     ]
    }
   ],
   "source": [
    "df.info()"
   ]
  },
  {
   "cell_type": "code",
   "execution_count": null,
   "id": "5c55c284",
   "metadata": {},
   "outputs": [],
   "source": []
  },
  {
   "cell_type": "code",
   "execution_count": 21,
   "id": "1a930c32",
   "metadata": {},
   "outputs": [],
   "source": [
    "# Calculate percentage of restaurants offering table booking\n",
    "\n",
    "table_booking_counts = df['Has Table booking'].value_counts()\n",
    "table_booking_percentage = (table_booking_counts['Yes'] / len(df)) * 100"
   ]
  },
  {
   "cell_type": "code",
   "execution_count": 22,
   "id": "7a3c77f9",
   "metadata": {},
   "outputs": [],
   "source": [
    "# Calculate percentage of restaurants offering online delivery\n",
    "\n",
    "online_delivery_counts = df['Has Online delivery'].value_counts()\n",
    "online_delivery_percentage = (online_delivery_counts['Yes'] / len(df)) * 100"
   ]
  },
  {
   "cell_type": "code",
   "execution_count": 23,
   "id": "f9f44d1d",
   "metadata": {},
   "outputs": [
    {
     "name": "stdout",
     "output_type": "stream",
     "text": [
      "Percentage of restaurants offering table booking: 12.12%\n",
      "Percentage of restaurants offering online delivery: 25.66%\n"
     ]
    }
   ],
   "source": [
    "# Print the result\n",
    "\n",
    "print(f\"Percentage of restaurants offering table booking: {table_booking_percentage:.2f}%\")\n",
    "print(f\"Percentage of restaurants offering online delivery: {online_delivery_percentage:.2f}%\")"
   ]
  },
  {
   "cell_type": "code",
   "execution_count": null,
   "id": "eb8ebdba",
   "metadata": {},
   "outputs": [],
   "source": []
  },
  {
   "cell_type": "code",
   "execution_count": 24,
   "id": "84bf34b1",
   "metadata": {},
   "outputs": [],
   "source": [
    "# The average rating of restaurants with and without table booking\n",
    "\n",
    "table_booking_avg_rating = df.groupby('Has Table booking')['Aggregate rating'].mean()"
   ]
  },
  {
   "cell_type": "code",
   "execution_count": 25,
   "id": "c4aa7b83",
   "metadata": {},
   "outputs": [
    {
     "name": "stdout",
     "output_type": "stream",
     "text": [
      "Average rating of restaurants with table booking: 3.44\n",
      "Average rating of restaurants without table booking: 2.56\n"
     ]
    }
   ],
   "source": [
    "# Print the result\n",
    "\n",
    "print(f\"Average rating of restaurants with table booking: {table_booking_avg_rating['Yes']:.2f}\")\n",
    "print(f\"Average rating of restaurants without table booking: {table_booking_avg_rating['No']:.2f}\")"
   ]
  },
  {
   "cell_type": "markdown",
   "id": "fe727ce0",
   "metadata": {},
   "source": [
    "###### The restaurants with table booking seem to have a higher average rating"
   ]
  },
  {
   "cell_type": "code",
   "execution_count": null,
   "id": "ed21c0ea",
   "metadata": {},
   "outputs": [],
   "source": []
  },
  {
   "cell_type": "code",
   "execution_count": 66,
   "id": "0950ae51",
   "metadata": {},
   "outputs": [],
   "source": [
    "# Analyzing the price ranges of restaurants with online delivery\n",
    "\n",
    "restaurants_with_online_delivery = df[df['Has Online delivery']=='Yes'][['Restaurant Name', 'Has Online delivery','Average Cost for two']]"
   ]
  },
  {
   "cell_type": "code",
   "execution_count": 67,
   "id": "ed9c9add",
   "metadata": {},
   "outputs": [
    {
     "name": "stdout",
     "output_type": "stream",
     "text": [
      "                       Restaurant Name Has Online delivery  \\\n",
      "5026      Lodi - The Garden Restaurant                 Yes   \n",
      "9096                      TGI Friday's                 Yes   \n",
      "1863                   Gung The Palace                 Yes   \n",
      "1579                      TGI Friday's                 Yes   \n",
      "1225          California Pizza Kitchen                 Yes   \n",
      "4643                  Cafe Illuminatii                 Yes   \n",
      "3436                      TGI Friday's                 Yes   \n",
      "3746     Diva - The Italian Restaurant                 Yes   \n",
      "2997                     Pebble Street                 Yes   \n",
      "727   The Fatty Bao - Asian Gastro Bar                 Yes   \n",
      "\n",
      "      Average Cost for two  \n",
      "5026                  2600  \n",
      "9096                  2500  \n",
      "1863                  2500  \n",
      "1579                  2500  \n",
      "1225                  2500  \n",
      "4643                  2500  \n",
      "3436                  2500  \n",
      "3746                  2500  \n",
      "2997                  2400  \n",
      "727                   2400  \n"
     ]
    }
   ],
   "source": [
    "print(restaurants_with_online_delivery.sort_values(by='Average Cost for two',ascending=False).head(10))"
   ]
  },
  {
   "cell_type": "code",
   "execution_count": 68,
   "id": "a6277584",
   "metadata": {},
   "outputs": [],
   "source": [
    "# Analyzing the price ranges of restaurants without online delivery\n",
    "\n",
    "restaurants_without_online_delivery = df[df['Has Online delivery']=='No'][['Restaurant Name', 'Has Online delivery','Average Cost for two']]"
   ]
  },
  {
   "cell_type": "code",
   "execution_count": 69,
   "id": "df35a7b3",
   "metadata": {},
   "outputs": [
    {
     "name": "stdout",
     "output_type": "stream",
     "text": [
      "                  Restaurant Name Has Online delivery  Average Cost for two\n",
      "9283                         Skye                  No                800000\n",
      "9284     Satoo - Hotel Shangri-La                  No                800000\n",
      "9287                   Sushi Masa                  No                500000\n",
      "9289               3 Wise Monkeys                  No                450000\n",
      "9294  Avec Moi Restaurant and Bar                  No                350000\n",
      "9288   Lucky Cat Coffee & Kitchen                  No                300000\n",
      "9295                      Onokabe                  No                300000\n",
      "9278                   Lemongrass                  No                250000\n",
      "9285                        MONKS                  No                250000\n",
      "9296             Talaga Sampireun                  No                200000\n"
     ]
    }
   ],
   "source": [
    "print(restaurants_without_online_delivery.sort_values(by='Average Cost for two',ascending=False).head(10))"
   ]
  },
  {
   "cell_type": "markdown",
   "id": "20b6e55e",
   "metadata": {},
   "source": [
    "###### It can be seen that the restaurants without Online delivery seem to be more expensive for a typical standard meal for two than the restaurants with Online delivery."
   ]
  },
  {
   "cell_type": "code",
   "execution_count": null,
   "id": "032f4a9d",
   "metadata": {},
   "outputs": [],
   "source": []
  },
  {
   "cell_type": "code",
   "execution_count": null,
   "id": "52dc8d31",
   "metadata": {},
   "outputs": [],
   "source": []
  },
  {
   "cell_type": "markdown",
   "id": "431301c8",
   "metadata": {},
   "source": [
    "## Task 2: Price Range Analysis"
   ]
  },
  {
   "cell_type": "code",
   "execution_count": null,
   "id": "85c34bfa",
   "metadata": {},
   "outputs": [],
   "source": []
  },
  {
   "cell_type": "code",
   "execution_count": 58,
   "id": "a6aa6fa9",
   "metadata": {},
   "outputs": [
    {
     "name": "stdout",
     "output_type": "stream",
     "text": [
      "The most common price range among all the restaurants: 500\n"
     ]
    }
   ],
   "source": [
    "# The most common price range among all the restaurants\n",
    "\n",
    "most_common_price_range = df['Average Cost for two'].value_counts().idxmax()\n",
    "\n",
    "print(f'The most common price range among all the restaurants: {most_common_price_range}')"
   ]
  },
  {
   "cell_type": "code",
   "execution_count": null,
   "id": "7c05f628",
   "metadata": {},
   "outputs": [],
   "source": []
  },
  {
   "cell_type": "code",
   "execution_count": 59,
   "id": "59aeb513",
   "metadata": {},
   "outputs": [],
   "source": [
    "# The average rating for each price range\n",
    "\n",
    "average_rating_for_price_range = df.groupby('Average Cost for two')['Aggregate rating'].mean()"
   ]
  },
  {
   "cell_type": "code",
   "execution_count": 62,
   "id": "3d50810e",
   "metadata": {},
   "outputs": [
    {
     "name": "stdout",
     "output_type": "stream",
     "text": [
      "The average rating for each price range: Average Cost for two\n",
      "35    4.329412\n",
      "45    4.183333\n",
      "40    4.115652\n",
      "10    4.011719\n",
      "25    3.928736\n",
      "0     3.761111\n",
      "30    3.737500\n",
      "7     3.725000\n",
      "20    3.696000\n",
      "15    3.575000\n",
      "Name: Aggregate rating, dtype: float64\n"
     ]
    }
   ],
   "source": [
    "print(f'The average rating for each price range: {average_rating_for_price_range.head(10).sort_values(ascending=False)}')"
   ]
  },
  {
   "cell_type": "code",
   "execution_count": null,
   "id": "f10a9b4a",
   "metadata": {},
   "outputs": [],
   "source": []
  },
  {
   "cell_type": "code",
   "execution_count": 87,
   "id": "b526a0d7",
   "metadata": {},
   "outputs": [],
   "source": [
    "# The color of the highest average rating among the different prices\n",
    "\n",
    "# Find the average rating per price\n",
    "avg_rating_per_price = df.groupby('Average Cost for two')['Aggregate rating'].mean()"
   ]
  },
  {
   "cell_type": "code",
   "execution_count": 88,
   "id": "4fd6da13",
   "metadata": {},
   "outputs": [],
   "source": [
    "highest_avg_rating_per_price = avg_rating_per_price.idxmax()"
   ]
  },
  {
   "cell_type": "code",
   "execution_count": 89,
   "id": "7b59b5a4",
   "metadata": {},
   "outputs": [],
   "source": [
    "color_mapping = df[df['Average Cost for two']==highest_avg_rating_per_price]['Rating color'].mode()[0]"
   ]
  },
  {
   "cell_type": "code",
   "execution_count": 91,
   "id": "f3acac8c",
   "metadata": {},
   "outputs": [
    {
     "name": "stdout",
     "output_type": "stream",
     "text": [
      "The color that represents the highest average rating per price is: Dark Green\n"
     ]
    }
   ],
   "source": [
    "print(f\"The color that represents the highest average rating per price is: {color_mapping}\")"
   ]
  },
  {
   "cell_type": "code",
   "execution_count": null,
   "id": "5cca723b",
   "metadata": {},
   "outputs": [],
   "source": []
  },
  {
   "cell_type": "code",
   "execution_count": null,
   "id": "6daaea1d",
   "metadata": {},
   "outputs": [],
   "source": []
  },
  {
   "cell_type": "markdown",
   "id": "c807f371",
   "metadata": {},
   "source": [
    "## Task 3: Feature Engineering"
   ]
  },
  {
   "cell_type": "code",
   "execution_count": 92,
   "id": "3b10683f",
   "metadata": {},
   "outputs": [],
   "source": [
    "# Extracting additional features\n",
    "\n",
    "df['Restaurant Name Length'] = df['Restaurant Name'].str.len()"
   ]
  },
  {
   "cell_type": "code",
   "execution_count": 93,
   "id": "515de45f",
   "metadata": {},
   "outputs": [],
   "source": [
    "df['Address Length'] = df['Address'].str.len()"
   ]
  },
  {
   "cell_type": "code",
   "execution_count": 98,
   "id": "ab8b46a2",
   "metadata": {},
   "outputs": [
    {
     "name": "stdout",
     "output_type": "stream",
     "text": [
      "                            Restaurant Name  Restaurant Name Length  \\\n",
      "0                          Le Petit Souffle                      16   \n",
      "1                          Izakaya Kikufuji                      16   \n",
      "2                    Heat - Edsa Shangri-La                      22   \n",
      "3                                      Ooma                       4   \n",
      "4                               Sambo Kojin                      11   \n",
      "5                              Din Tai Fung                      12   \n",
      "6                                Buffet 101                      10   \n",
      "7                                   Vikings                       7   \n",
      "8  Spiral - Sofitel Philippine Plaza Manila                      40   \n",
      "9                                  Locavore                       8   \n",
      "\n",
      "                                             Address  Address Length  \n",
      "0  Third Floor, Century City Mall, Kalayaan Avenu...              71  \n",
      "1  Little Tokyo, 2277 Chino Roces Avenue, Legaspi...              67  \n",
      "2  Edsa Shangri-La, 1 Garden Way, Ortigas, Mandal...              56  \n",
      "3  Third Floor, Mega Fashion Hall, SM Megamall, O...              70  \n",
      "4  Third Floor, Mega Atrium, SM Megamall, Ortigas...              64  \n",
      "5  Ground Floor, Mega Fashion Hall, SM Megamall, ...              71  \n",
      "6  Building K, SM By The Bay, Sunset Boulevard, M...              83  \n",
      "7  Building B, By The Bay, Seaside Boulevard, Mal...              81  \n",
      "8  Plaza Level, Sofitel Philippine Plaza Manila, ...              69  \n",
      "9  Brixton Technology Center, 10 Brixton Street, ...              67  \n"
     ]
    }
   ],
   "source": [
    "print(df[['Restaurant Name', 'Restaurant Name Length', 'Address', 'Address Length']].head(10))"
   ]
  },
  {
   "cell_type": "code",
   "execution_count": null,
   "id": "7967871c",
   "metadata": {},
   "outputs": [],
   "source": []
  },
  {
   "cell_type": "code",
   "execution_count": 102,
   "id": "b85ae5a8",
   "metadata": {},
   "outputs": [],
   "source": [
    "# Creating new features by encoding categorical variables\n",
    "\n",
    "# Encode 'Has Table booking' - Yes= 1, No= 0\n",
    "df['Has Table Booking Map'] = df['Has Table booking'].map({'Yes': 1, 'No': 0})"
   ]
  },
  {
   "cell_type": "code",
   "execution_count": 103,
   "id": "73cdb737",
   "metadata": {},
   "outputs": [],
   "source": [
    "# Encode 'Has Online delivery' - Yes= 1, No= 0\n",
    "df['Has Online Delivery Map'] = df['Has Online delivery'].map({'Yes': 1, 'No': 0})"
   ]
  },
  {
   "cell_type": "code",
   "execution_count": 104,
   "id": "5d8810cf",
   "metadata": {},
   "outputs": [
    {
     "name": "stdout",
     "output_type": "stream",
     "text": [
      "  Has Table booking  Has Table Booking Map Has Online delivery  \\\n",
      "0               Yes                      1                  No   \n",
      "1               Yes                      1                  No   \n",
      "2               Yes                      1                  No   \n",
      "3                No                      0                  No   \n",
      "4               Yes                      1                  No   \n",
      "5                No                      0                  No   \n",
      "6               Yes                      1                  No   \n",
      "7               Yes                      1                  No   \n",
      "8               Yes                      1                  No   \n",
      "9               Yes                      1                  No   \n",
      "\n",
      "   Has Online Delivery Map  \n",
      "0                        0  \n",
      "1                        0  \n",
      "2                        0  \n",
      "3                        0  \n",
      "4                        0  \n",
      "5                        0  \n",
      "6                        0  \n",
      "7                        0  \n",
      "8                        0  \n",
      "9                        0  \n"
     ]
    }
   ],
   "source": [
    "print(df[['Has Table booking', 'Has Table Booking Map', 'Has Online delivery', 'Has Online Delivery Map']].head(10))"
   ]
  },
  {
   "cell_type": "code",
   "execution_count": null,
   "id": "a6b8609a",
   "metadata": {},
   "outputs": [],
   "source": []
  }
 ],
 "metadata": {
  "kernelspec": {
   "display_name": "Python 3 (ipykernel)",
   "language": "python",
   "name": "python3"
  },
  "language_info": {
   "codemirror_mode": {
    "name": "ipython",
    "version": 3
   },
   "file_extension": ".py",
   "mimetype": "text/x-python",
   "name": "python",
   "nbconvert_exporter": "python",
   "pygments_lexer": "ipython3",
   "version": "3.11.5"
  }
 },
 "nbformat": 4,
 "nbformat_minor": 5
}
